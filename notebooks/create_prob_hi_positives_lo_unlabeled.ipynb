{
 "cells": [
  {
   "cell_type": "code",
   "execution_count": 1,
   "id": "4f300b9e",
   "metadata": {},
   "outputs": [],
   "source": [
    "import pandas as pd\n",
    "from pathlib import Path"
   ]
  },
  {
   "cell_type": "code",
   "execution_count": 2,
   "id": "4bdc53e8",
   "metadata": {},
   "outputs": [],
   "source": [
    "# ---------------------------------------------------------------------\n",
    "# 1. Paths and constants\n",
    "# ---------------------------------------------------------------------\n",
    "DATA_DIR = Path(\"/home/mpradhan/Intern_Research_Project/data\")\n",
    "master_file = DATA_DIR / \"X_master_dense_prob.csv\"\n",
    "label_file = DATA_DIR / \"y_master.csv\""
   ]
  },
  {
   "cell_type": "code",
   "execution_count": 3,
   "id": "c1947102",
   "metadata": {},
   "outputs": [],
   "source": [
    "# Output files\n",
    "X_out = DATA_DIR / \"X_prob_hi_positives_lo_unlabeled.csv\"\n",
    "y_true_out = DATA_DIR / \"y_prob_hi_positives_lo_unlabeled_true.csv\"\n",
    "y_pu_out = DATA_DIR / \"y_prob_hi_positives_lo_unlabeled_flipped.csv\""
   ]
  },
  {
   "cell_type": "code",
   "execution_count": null,
   "id": "a934020a",
   "metadata": {},
   "outputs": [],
   "source": [
    "# How many to select\n",
    "N_HIGH_POS = 350_000\n",
    "N_LOW_NEG = 350_000\n",
    "N_FLIP = 40_000"
   ]
  },
  {
   "cell_type": "code",
   "execution_count": 5,
   "id": "933aa99b",
   "metadata": {},
   "outputs": [],
   "source": [
    "# ---------------------------------------------------------------------\n",
    "# 2. Load\n",
    "# ---------------------------------------------------------------------\n",
    "X = pd.read_csv(master_file)\n",
    "y = pd.read_csv(label_file).squeeze(\"columns\")"
   ]
  },
  {
   "cell_type": "code",
   "execution_count": 6,
   "id": "f4e6de26",
   "metadata": {},
   "outputs": [],
   "source": [
    "# Drop rows with NaNs in X and keep same rows in y\n",
    "non_nan_mask = X.notna().all(axis=1)\n",
    "X = X[non_nan_mask].reset_index(drop=True)\n",
    "y = y[non_nan_mask].reset_index(drop=True)"
   ]
  },
  {
   "cell_type": "code",
   "execution_count": 7,
   "id": "05b2a742",
   "metadata": {},
   "outputs": [],
   "source": [
    "assert len(X) == len(y)\n",
    "df = X.copy()\n",
    "df[\"true_label\"] = y"
   ]
  },
  {
   "cell_type": "code",
   "execution_count": 8,
   "id": "a75592e2",
   "metadata": {},
   "outputs": [],
   "source": [
    "# ---------------------------------------------------------------------\n",
    "# 3. Get top positives and bottom negatives\n",
    "# ---------------------------------------------------------------------\n",
    "positives = df[df[\"true_label\"] == 1].copy()\n",
    "negatives = df[df[\"true_label\"] == 0].copy()"
   ]
  },
  {
   "cell_type": "code",
   "execution_count": 9,
   "id": "26c6d93e",
   "metadata": {},
   "outputs": [
    {
     "name": "stdout",
     "output_type": "stream",
     "text": [
      "Top positives: 250,000\n",
      "Low negatives: 250,000\n"
     ]
    }
   ],
   "source": [
    "# Sort positives by highest prob, pick top N\n",
    "top_positives = positives.sort_values(\"xgb_pos_prob\", ascending=False).head(N_HIGH_POS)\n",
    "\n",
    "# Sort negatives by lowest prob, pick bottom N\n",
    "low_negatives = negatives.sort_values(\"xgb_pos_prob\", ascending=True).head(N_LOW_NEG)\n",
    "\n",
    "print(f\"Top positives: {len(top_positives):,}\")\n",
    "print(f\"Low negatives: {len(low_negatives):,}\")"
   ]
  },
  {
   "cell_type": "code",
   "execution_count": 10,
   "id": "b21fe4f9",
   "metadata": {},
   "outputs": [],
   "source": [
    "# ---------------------------------------------------------------------\n",
    "# 4. Flip some positives to unlabeled\n",
    "# ---------------------------------------------------------------------\n",
    "flipped_idx = top_positives.sample(n=N_FLIP, random_state=42).index\n",
    "\n",
    "top_positives[\"pu_label\"] = 1\n",
    "top_positives.loc[flipped_idx, \"pu_label\"] = 0\n",
    "\n",
    "low_negatives[\"pu_label\"] = 0  # all unlabeled"
   ]
  },
  {
   "cell_type": "code",
   "execution_count": 11,
   "id": "17fc1f2f",
   "metadata": {},
   "outputs": [],
   "source": [
    "# ---------------------------------------------------------------------\n",
    "# 5. Combine and shuffle\n",
    "# ---------------------------------------------------------------------\n",
    "new_df = pd.concat([\n",
    "    top_positives,\n",
    "    low_negatives\n",
    "]).sample(frac=1, random_state=42).reset_index(drop=True)\n",
    "\n",
    "X_new = new_df.drop(columns=[\"true_label\", \"pu_label\"])\n",
    "y_true = new_df[\"true_label\"]\n",
    "y_pu = new_df[\"pu_label\"]"
   ]
  },
  {
   "cell_type": "code",
   "execution_count": 12,
   "id": "4a90b0e5",
   "metadata": {},
   "outputs": [
    {
     "name": "stdout",
     "output_type": "stream",
     "text": [
      "Saved:\n",
      "  /home/mpradhan/Intern_Research_Project/data/X_prob_hi_positives_lo_unlabeled.csv\n",
      "  /home/mpradhan/Intern_Research_Project/data/y_prob_hi_positives_lo_unlabeled_true.csv\n",
      "  /home/mpradhan/Intern_Research_Project/data/y_prob_hi_positives_lo_unlabeled_flipped.csv\n",
      "Shape: (500000, 129), True Positives: 250000, PU Positives: 230000\n"
     ]
    }
   ],
   "source": [
    "# ---------------------------------------------------------------------\n",
    "# 6. Save\n",
    "# ---------------------------------------------------------------------\n",
    "X_new.to_csv(X_out, index=False)\n",
    "y_true.to_csv(y_true_out, index=False)\n",
    "y_pu.to_csv(y_pu_out, index=False)\n",
    "\n",
    "print(f\"Saved:\")\n",
    "print(f\"  {X_out}\")\n",
    "print(f\"  {y_true_out}\")\n",
    "print(f\"  {y_pu_out}\")\n",
    "\n",
    "print(f\"Shape: {X_new.shape}, True Positives: {y_true.sum()}, PU Positives: {y_pu.sum()}\")"
   ]
  },
  {
   "cell_type": "code",
   "execution_count": null,
   "id": "98fe7c14",
   "metadata": {},
   "outputs": [],
   "source": []
  }
 ],
 "metadata": {
  "kernelspec": {
   "display_name": "pulsnar",
   "language": "python",
   "name": "python3"
  },
  "language_info": {
   "codemirror_mode": {
    "name": "ipython",
    "version": 3
   },
   "file_extension": ".py",
   "mimetype": "text/x-python",
   "name": "python",
   "nbconvert_exporter": "python",
   "pygments_lexer": "ipython3",
   "version": "3.11.13"
  }
 },
 "nbformat": 4,
 "nbformat_minor": 5
}
