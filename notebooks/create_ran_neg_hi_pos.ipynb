{
 "cells": [
  {
   "cell_type": "code",
   "execution_count": 1,
   "id": "e1caccf2",
   "metadata": {},
   "outputs": [],
   "source": [
    "import pandas as pd\n",
    "from pathlib import Path\n"
   ]
  },
  {
   "cell_type": "code",
   "execution_count": 2,
   "id": "fc2dfcf7",
   "metadata": {},
   "outputs": [],
   "source": [
    "# ---------------------------------------------------------------------\n",
    "# 1. Paths and constants\n",
    "# ---------------------------------------------------------------------\n",
    "DATA_DIR = Path(\"/home/mpradhan/Intern_Research_Project/data\")\n",
    "master_file = DATA_DIR / \"X_master_dense_prob.csv\"\n",
    "label_file = DATA_DIR / \"y_master.csv\""
   ]
  },
  {
   "cell_type": "code",
   "execution_count": 3,
   "id": "659e216f",
   "metadata": {},
   "outputs": [],
   "source": [
    "# Output files\n",
    "X_out = DATA_DIR / \"X_ran_neg_hi_pos.csv\"\n",
    "y_true_out = DATA_DIR / \"y_ran_neg_hi_pos_true.csv\"\n",
    "y_pu_out = DATA_DIR / \"y_ran_neg_hi_pos_flipped.csv\""
   ]
  },
  {
   "cell_type": "code",
   "execution_count": null,
   "id": "a92d1281",
   "metadata": {},
   "outputs": [],
   "source": [
    "# How many to select\n",
    "N_HIGH_POS = 350_000\n",
    "N_NEG = 350_000\n",
    "N_FLIP = 40_000"
   ]
  },
  {
   "cell_type": "code",
   "execution_count": 5,
   "id": "d957c9d6",
   "metadata": {},
   "outputs": [],
   "source": [
    "\n",
    "# ---------------------------------------------------------------------\n",
    "# 2. Load and drop NaNs\n",
    "# ---------------------------------------------------------------------\n",
    "X = pd.read_csv(master_file)\n",
    "y = pd.read_csv(label_file).squeeze(\"columns\")"
   ]
  },
  {
   "cell_type": "code",
   "execution_count": 6,
   "id": "101b6829",
   "metadata": {},
   "outputs": [
    {
     "name": "stdout",
     "output_type": "stream",
     "text": [
      "Data shape after dropping NaNs: (11179128, 130)\n"
     ]
    }
   ],
   "source": [
    "# Drop rows with NaNs in X and keep same rows in y\n",
    "non_nan_mask = X.notna().all(axis=1)\n",
    "X = X[non_nan_mask].reset_index(drop=True)\n",
    "y = y[non_nan_mask].reset_index(drop=True)\n",
    "\n",
    "assert len(X) == len(y), \"Lengths differ after dropping NaNs\"\n",
    "\n",
    "df = X.copy()\n",
    "df[\"true_label\"] = y\n",
    "\n",
    "print(f\"Data shape after dropping NaNs: {df.shape}\")"
   ]
  },
  {
   "cell_type": "code",
   "execution_count": 7,
   "id": "7d590774",
   "metadata": {},
   "outputs": [
    {
     "name": "stdout",
     "output_type": "stream",
     "text": [
      "Top positives: 250,000\n",
      "Random negatives: 250,000\n"
     ]
    }
   ],
   "source": [
    "# 3. Get top positives and random negatives\n",
    "# ---------------------------------------------------------------------\n",
    "positives = df[df[\"true_label\"] == 1].copy()\n",
    "negatives = df[df[\"true_label\"] == 0].copy()\n",
    "\n",
    "# Sort positives by highest prob, pick top N\n",
    "top_positives = positives.sort_values(\"xgb_pos_prob\", ascending=False).head(N_HIGH_POS)\n",
    "\n",
    "# Randomly sample negatives\n",
    "negatives_sample = negatives.sample(n=N_NEG, random_state=42)\n",
    "\n",
    "print(f\"Top positives: {len(top_positives):,}\")\n",
    "print(f\"Random negatives: {len(negatives_sample):,}\")"
   ]
  },
  {
   "cell_type": "code",
   "execution_count": 8,
   "id": "fa932717",
   "metadata": {},
   "outputs": [],
   "source": [
    "# ---------------------------------------------------------------------\n",
    "# 4. Flip some positives to unlabeled\n",
    "# ---------------------------------------------------------------------\n",
    "flipped_idx = top_positives.sample(n=N_FLIP, random_state=42).index\n",
    "\n",
    "top_positives[\"pu_label\"] = 1\n",
    "top_positives.loc[flipped_idx, \"pu_label\"] = 0\n",
    "\n",
    "negatives_sample[\"pu_label\"] = 0"
   ]
  },
  {
   "cell_type": "code",
   "execution_count": 9,
   "id": "a233af48",
   "metadata": {},
   "outputs": [],
   "source": [
    "# ---------------------------------------------------------------------\n",
    "# 5. Combine and shuffle\n",
    "# ---------------------------------------------------------------------\n",
    "new_df = pd.concat([top_positives, negatives_sample]).sample(frac=1, random_state=42).reset_index(drop=True)\n",
    "\n",
    "X_new = new_df.drop(columns=[\"true_label\", \"pu_label\"])\n",
    "y_true = new_df[\"true_label\"]\n",
    "y_pu = new_df[\"pu_label\"]"
   ]
  },
  {
   "cell_type": "code",
   "execution_count": 10,
   "id": "335f95d3",
   "metadata": {},
   "outputs": [
    {
     "name": "stdout",
     "output_type": "stream",
     "text": [
      "Saved:\n",
      "  /home/mpradhan/Intern_Research_Project/data/X_ran_neg_hi_pos.csv\n",
      "  /home/mpradhan/Intern_Research_Project/data/y_ran_neg_hi_pos_true.csv\n",
      "  /home/mpradhan/Intern_Research_Project/data/y_ran_neg_hi_pos_flipped.csv\n",
      "Shape: (500000, 129), True Positives: 250000, PU Positives: 230000\n"
     ]
    }
   ],
   "source": [
    "# ---------------------------------------------------------------------\n",
    "# 6. Save\n",
    "# ---------------------------------------------------------------------\n",
    "X_new.to_csv(X_out, index=False)\n",
    "y_true.to_csv(y_true_out, index=False)\n",
    "y_pu.to_csv(y_pu_out, index=False)\n",
    "\n",
    "print(f\"Saved:\")\n",
    "print(f\"  {X_out}\")\n",
    "print(f\"  {y_true_out}\")\n",
    "print(f\"  {y_pu_out}\")\n",
    "\n",
    "print(f\"Shape: {X_new.shape}, True Positives: {y_true.sum()}, PU Positives: {y_pu.sum()}\")"
   ]
  }
 ],
 "metadata": {
  "kernelspec": {
   "display_name": "pulsnar",
   "language": "python",
   "name": "python3"
  },
  "language_info": {
   "codemirror_mode": {
    "name": "ipython",
    "version": 3
   },
   "file_extension": ".py",
   "mimetype": "text/x-python",
   "name": "python",
   "nbconvert_exporter": "python",
   "pygments_lexer": "ipython3",
   "version": "3.11.13"
  }
 },
 "nbformat": 4,
 "nbformat_minor": 5
}
