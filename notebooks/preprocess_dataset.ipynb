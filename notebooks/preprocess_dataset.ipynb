{
 "cells": [
  {
   "cell_type": "code",
   "execution_count": 1,
   "id": "2aa1a323",
   "metadata": {},
   "outputs": [],
   "source": [
    "import pandas as pd\n",
    "import joblib\n",
    "from sklearn.preprocessing import OneHotEncoder\n",
    "from sklearn.compose import ColumnTransformer\n",
    "from scipy import sparse"
   ]
  },
  {
   "cell_type": "code",
   "execution_count": 2,
   "id": "68e22575",
   "metadata": {},
   "outputs": [],
   "source": [
    "balanced_path = \"../balanced_master_residue_file.csv\"\n",
    "drop_cols       = ['amino_acid', 'dssp_residue_name']\n",
    "label_col       = 'label'\n",
    "\n",
    "# Possible residue identity columns (one-letter or three-letter)\n",
    "possible_res_cols = ['residue_name', 'amino_acid', 'aa_name']\n",
    "\n",
    "# Identifier columns to remove\n",
    "identifier_cols = ['pdb_id', 'chain_id',\n",
    "                   'pdb_residue_number', 'renum_residue_number',\n",
    "                   'insertion_code']"
   ]
  },
  {
   "cell_type": "code",
   "execution_count": 3,
   "id": "6331ba3f",
   "metadata": {},
   "outputs": [],
   "source": [
    "\n",
    "# Other categorical features\n",
    "extra_cat_cols = ['prev_res', 'next_res', 'secondary_structure']"
   ]
  },
  {
   "cell_type": "code",
   "execution_count": 19,
   "id": "e1550d46",
   "metadata": {},
   "outputs": [
    {
     "name": "stderr",
     "output_type": "stream",
     "text": [
      "/tmp/ipykernel_33541/186381908.py:2: DtypeWarning: Columns (54) have mixed types. Specify dtype option on import or set low_memory=False.\n",
      "  df = pd.read_csv(balanced_path)\n"
     ]
    }
   ],
   "source": [
    "# 1 ▸ load & basic clean\n",
    "df = pd.read_csv(balanced_path)\n",
    "df = df.drop(columns=drop_cols, errors=\"ignore\")"
   ]
  },
  {
   "cell_type": "code",
   "execution_count": 20,
   "id": "5e8b504d",
   "metadata": {},
   "outputs": [],
   "source": [
    "# ---------- 3. Detect residue identity column ---------------\n",
    "present_res_col = next((c for c in possible_res_cols if c in df.columns), None)\n",
    "if present_res_col is None:\n",
    "    raise ValueError(\"No residue identity column found: tried 'residue_name', 'amino_acid', or 'aa_name'.\")"
   ]
  },
  {
   "cell_type": "code",
   "execution_count": 21,
   "id": "484e71a7",
   "metadata": {},
   "outputs": [],
   "source": [
    "# Define full list of categorical columns\n",
    "categorical_cols = [present_res_col] + [c for c in extra_cat_cols if c in df.columns]\n",
    "\n",
    "# ---------- 4. Prepare X and y ------------------------------\n",
    "y = df[label_col]\n",
    "\n",
    "# Drop identifier columns (NOT the residue identity column)\n",
    "X = df.drop(columns=[label_col] + identifier_cols, errors=\"ignore\")"
   ]
  },
  {
   "cell_type": "code",
   "execution_count": 22,
   "id": "53fb6368",
   "metadata": {},
   "outputs": [],
   "source": [
    "\n",
    "# Determine numeric columns to passthrough\n",
    "numeric_cols = [c for c in X.columns if c not in categorical_cols]\n",
    "\n",
    "# ---------- 5. ColumnTransformer -----------------------------\n",
    "encoder = ColumnTransformer(\n",
    "    transformers=[\n",
    "        (\"cat\", OneHotEncoder(sparse_output=True, handle_unknown=\"ignore\"), categorical_cols),\n",
    "        (\"num\", \"passthrough\", numeric_cols)\n",
    "    ],\n",
    "    remainder=\"drop\",\n",
    "    sparse_threshold=1.0\n",
    ")"
   ]
  },
  {
   "cell_type": "code",
   "execution_count": 23,
   "id": "b6411a71",
   "metadata": {},
   "outputs": [],
   "source": [
    "\n",
    "# ---------- 6. Encode ----------------------------------------\n",
    "X_sparse = encoder.fit_transform(X)  # Will be sparse"
   ]
  },
  {
   "cell_type": "code",
   "execution_count": null,
   "id": "1d9f4791",
   "metadata": {},
   "outputs": [
    {
     "data": {
      "text/plain": [
       "['onehot_encoder_balanced.pkl']"
      ]
     },
     "execution_count": 24,
     "metadata": {},
     "output_type": "execute_result"
    }
   ],
   "source": [
    "# ---------- 7. Save outputs ----------------------------------\n",
    "sparse.save_npz(\"../data/X_balanced_sparse.npz\", X_sparse)\n",
    "y.to_csv(\"../data/y_balanced.csv\", index=False)\n",
    "joblib.dump(encoder, \"onehot_encoder_balanced.pkl\")"
   ]
  },
  {
   "cell_type": "code",
   "execution_count": 25,
   "id": "ec9c77bd",
   "metadata": {},
   "outputs": [
    {
     "name": "stdout",
     "output_type": "stream",
     "text": [
      "✓ Encoding complete\n",
      "  → Sparse feature matrix: X_balanced_sparse.npz  (shape: (1296468, 128))\n",
      "  → Labels:                 y_balanced.csv\n",
      "  → Encoder saved to:       onehot_encoder_balanced.pkl\n"
     ]
    }
   ],
   "source": [
    "print(\"✓ Encoding complete\")\n",
    "print(f\"  → Sparse feature matrix: X_balanced_sparse.npz  (shape: {X_sparse.shape})\")\n",
    "print(\"  → Labels:                 y_balanced.csv\")\n",
    "print(\"  → Encoder saved to:       onehot_encoder_balanced.pkl\")"
   ]
  },
  {
   "cell_type": "code",
   "execution_count": 26,
   "id": "08b9cbc1",
   "metadata": {},
   "outputs": [
    {
     "name": "stdout",
     "output_type": "stream",
     "text": [
      "✓ Dense version of X saved as X_balanced_dense.csv\n"
     ]
    }
   ],
   "source": [
    "# Get feature names (optional but useful)\n",
    "encoded_feature_names = encoder.get_feature_names_out()\n",
    "\n",
    "# Convert sparse matrix to dense array\n",
    "X_dense = X_sparse.toarray()\n",
    "\n",
    "# Create a DataFrame\n",
    "X_df = pd.DataFrame(X_dense, columns=encoded_feature_names)\n",
    "\n",
    "# Save as CSV\n",
    "X_df.to_csv(\"../data/X_balanced_dense.csv\", index=False)\n",
    "print(\"✓ Dense version of X saved as X_balanced_dense.csv\")"
   ]
  },
  {
   "cell_type": "code",
   "execution_count": null,
   "id": "d538ed32",
   "metadata": {},
   "outputs": [],
   "source": []
  }
 ],
 "metadata": {
  "kernelspec": {
   "display_name": "pulsnar",
   "language": "python",
   "name": "python3"
  },
  "language_info": {
   "codemirror_mode": {
    "name": "ipython",
    "version": 3
   },
   "file_extension": ".py",
   "mimetype": "text/x-python",
   "name": "python",
   "nbconvert_exporter": "python",
   "pygments_lexer": "ipython3",
   "version": "3.11.13"
  }
 },
 "nbformat": 4,
 "nbformat_minor": 5
}
