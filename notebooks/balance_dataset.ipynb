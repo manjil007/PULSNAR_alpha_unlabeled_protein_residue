{
 "cells": [
  {
   "cell_type": "code",
   "execution_count": 1,
   "id": "118848a5",
   "metadata": {},
   "outputs": [],
   "source": [
    "import pandas as pd\n",
    "from pathlib import Path\n",
    "import numpy as np\n"
   ]
  },
  {
   "cell_type": "code",
   "execution_count": 2,
   "id": "28366610",
   "metadata": {},
   "outputs": [],
   "source": [
    "file_path = \"../data/master_residue_file.csv\"\n",
    "balanced_fp = \"../data/balanced_master_residue_file.csv\"\n",
    "chunk_size  = 100_000\n",
    "label_col   = \"label\"\n",
    "drop_cols   = ['amino_acid', 'dssp_residue_name']"
   ]
  },
  {
   "cell_type": "code",
   "execution_count": 3,
   "id": "e6f5f2d5",
   "metadata": {},
   "outputs": [],
   "source": [
    "# ── Pass 1: count positives & unlabeled ────────────────────────────────\n",
    "pos_cnt = unl_cnt = 0\n",
    "for c in pd.read_csv(file_path, chunksize=chunk_size, usecols=[label_col]):\n",
    "    pos_cnt += (c[label_col] == 1).sum()\n",
    "    unl_cnt += (c[label_col] == 0).sum()"
   ]
  },
  {
   "cell_type": "code",
   "execution_count": 4,
   "id": "46cffb35",
   "metadata": {},
   "outputs": [],
   "source": [
    "sample_prob = pos_cnt / unl_cnt          # probability to keep each unlabeled row\n",
    "rng = np.random.default_rng(42)          # reproducible sampling"
   ]
  },
  {
   "cell_type": "code",
   "execution_count": 5,
   "id": "271075c5",
   "metadata": {},
   "outputs": [],
   "source": [
    "\n",
    "# ── Pass 2: write balanced file chunk-by-chunk ─────────────────────────\n",
    "Path(balanced_fp).unlink(missing_ok=True)  "
   ]
  },
  {
   "cell_type": "code",
   "execution_count": 6,
   "id": "e9cce3b6",
   "metadata": {},
   "outputs": [
    {
     "name": "stderr",
     "output_type": "stream",
     "text": [
      "/tmp/ipykernel_5913/3804527052.py:1: DtypeWarning: Columns (55,56) have mixed types. Specify dtype option on import or set low_memory=False.\n",
      "  for chunk in pd.read_csv(file_path, chunksize=chunk_size):\n",
      "/tmp/ipykernel_5913/3804527052.py:1: DtypeWarning: Columns (55,56) have mixed types. Specify dtype option on import or set low_memory=False.\n",
      "  for chunk in pd.read_csv(file_path, chunksize=chunk_size):\n",
      "/tmp/ipykernel_5913/3804527052.py:1: DtypeWarning: Columns (55,56) have mixed types. Specify dtype option on import or set low_memory=False.\n",
      "  for chunk in pd.read_csv(file_path, chunksize=chunk_size):\n",
      "/tmp/ipykernel_5913/3804527052.py:1: DtypeWarning: Columns (55,56) have mixed types. Specify dtype option on import or set low_memory=False.\n",
      "  for chunk in pd.read_csv(file_path, chunksize=chunk_size):\n",
      "/tmp/ipykernel_5913/3804527052.py:1: DtypeWarning: Columns (55,56) have mixed types. Specify dtype option on import or set low_memory=False.\n",
      "  for chunk in pd.read_csv(file_path, chunksize=chunk_size):\n",
      "/tmp/ipykernel_5913/3804527052.py:1: DtypeWarning: Columns (55,56) have mixed types. Specify dtype option on import or set low_memory=False.\n",
      "  for chunk in pd.read_csv(file_path, chunksize=chunk_size):\n",
      "/tmp/ipykernel_5913/3804527052.py:1: DtypeWarning: Columns (55,56) have mixed types. Specify dtype option on import or set low_memory=False.\n",
      "  for chunk in pd.read_csv(file_path, chunksize=chunk_size):\n",
      "/tmp/ipykernel_5913/3804527052.py:1: DtypeWarning: Columns (55,56) have mixed types. Specify dtype option on import or set low_memory=False.\n",
      "  for chunk in pd.read_csv(file_path, chunksize=chunk_size):\n",
      "/tmp/ipykernel_5913/3804527052.py:1: DtypeWarning: Columns (55,56) have mixed types. Specify dtype option on import or set low_memory=False.\n",
      "  for chunk in pd.read_csv(file_path, chunksize=chunk_size):\n",
      "/tmp/ipykernel_5913/3804527052.py:1: DtypeWarning: Columns (55,56) have mixed types. Specify dtype option on import or set low_memory=False.\n",
      "  for chunk in pd.read_csv(file_path, chunksize=chunk_size):\n",
      "/tmp/ipykernel_5913/3804527052.py:1: DtypeWarning: Columns (55,56) have mixed types. Specify dtype option on import or set low_memory=False.\n",
      "  for chunk in pd.read_csv(file_path, chunksize=chunk_size):\n",
      "/tmp/ipykernel_5913/3804527052.py:1: DtypeWarning: Columns (55,56) have mixed types. Specify dtype option on import or set low_memory=False.\n",
      "  for chunk in pd.read_csv(file_path, chunksize=chunk_size):\n",
      "/tmp/ipykernel_5913/3804527052.py:1: DtypeWarning: Columns (55,56) have mixed types. Specify dtype option on import or set low_memory=False.\n",
      "  for chunk in pd.read_csv(file_path, chunksize=chunk_size):\n",
      "/tmp/ipykernel_5913/3804527052.py:1: DtypeWarning: Columns (31,55,56) have mixed types. Specify dtype option on import or set low_memory=False.\n",
      "  for chunk in pd.read_csv(file_path, chunksize=chunk_size):\n",
      "/tmp/ipykernel_5913/3804527052.py:1: DtypeWarning: Columns (55,56) have mixed types. Specify dtype option on import or set low_memory=False.\n",
      "  for chunk in pd.read_csv(file_path, chunksize=chunk_size):\n",
      "/tmp/ipykernel_5913/3804527052.py:1: DtypeWarning: Columns (55,56) have mixed types. Specify dtype option on import or set low_memory=False.\n",
      "  for chunk in pd.read_csv(file_path, chunksize=chunk_size):\n",
      "/tmp/ipykernel_5913/3804527052.py:1: DtypeWarning: Columns (55,56) have mixed types. Specify dtype option on import or set low_memory=False.\n",
      "  for chunk in pd.read_csv(file_path, chunksize=chunk_size):\n",
      "/tmp/ipykernel_5913/3804527052.py:1: DtypeWarning: Columns (55,56) have mixed types. Specify dtype option on import or set low_memory=False.\n",
      "  for chunk in pd.read_csv(file_path, chunksize=chunk_size):\n",
      "/tmp/ipykernel_5913/3804527052.py:1: DtypeWarning: Columns (55,56) have mixed types. Specify dtype option on import or set low_memory=False.\n",
      "  for chunk in pd.read_csv(file_path, chunksize=chunk_size):\n",
      "/tmp/ipykernel_5913/3804527052.py:1: DtypeWarning: Columns (55,56) have mixed types. Specify dtype option on import or set low_memory=False.\n",
      "  for chunk in pd.read_csv(file_path, chunksize=chunk_size):\n",
      "/tmp/ipykernel_5913/3804527052.py:1: DtypeWarning: Columns (55,56) have mixed types. Specify dtype option on import or set low_memory=False.\n",
      "  for chunk in pd.read_csv(file_path, chunksize=chunk_size):\n",
      "/tmp/ipykernel_5913/3804527052.py:1: DtypeWarning: Columns (55,56) have mixed types. Specify dtype option on import or set low_memory=False.\n",
      "  for chunk in pd.read_csv(file_path, chunksize=chunk_size):\n",
      "/tmp/ipykernel_5913/3804527052.py:1: DtypeWarning: Columns (55,56) have mixed types. Specify dtype option on import or set low_memory=False.\n",
      "  for chunk in pd.read_csv(file_path, chunksize=chunk_size):\n",
      "/tmp/ipykernel_5913/3804527052.py:1: DtypeWarning: Columns (55,56) have mixed types. Specify dtype option on import or set low_memory=False.\n",
      "  for chunk in pd.read_csv(file_path, chunksize=chunk_size):\n"
     ]
    }
   ],
   "source": [
    "for chunk in pd.read_csv(file_path, chunksize=chunk_size):\n",
    "    chunk = chunk.drop(columns=drop_cols, errors=\"ignore\")\n",
    "\n",
    "    pos_rows = chunk[chunk[label_col] == 1]\n",
    "    unl_rows = chunk[chunk[label_col] == 0]\n",
    "\n",
    "    # Bernoulli sampling keeps ≈ pos_cnt unlabeled rows overall\n",
    "    keep_mask = rng.random(len(unl_rows)) < sample_prob\n",
    "    unl_sample = unl_rows[keep_mask]\n",
    "\n",
    "    balanced_chunk = pd.concat([pos_rows, unl_sample], ignore_index=True)\n",
    "\n",
    "    # append to balanced CSV without headers after the first write\n",
    "    balanced_chunk.to_csv(\n",
    "        balanced_fp,\n",
    "        mode=\"a\",\n",
    "        index=False,\n",
    "        header=not Path(balanced_fp).exists()\n",
    "    )"
   ]
  },
  {
   "cell_type": "code",
   "execution_count": null,
   "id": "d4454f7a",
   "metadata": {},
   "outputs": [],
   "source": []
  }
 ],
 "metadata": {
  "kernelspec": {
   "display_name": "pulscar",
   "language": "python",
   "name": "python3"
  },
  "language_info": {
   "codemirror_mode": {
    "name": "ipython",
    "version": 3
   },
   "file_extension": ".py",
   "mimetype": "text/x-python",
   "name": "python",
   "nbconvert_exporter": "python",
   "pygments_lexer": "ipython3",
   "version": "3.11.13"
  }
 },
 "nbformat": 4,
 "nbformat_minor": 5
}
