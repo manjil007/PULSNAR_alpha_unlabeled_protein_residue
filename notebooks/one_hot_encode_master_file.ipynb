{
 "cells": [
  {
   "cell_type": "code",
   "execution_count": 1,
   "id": "16f14615",
   "metadata": {},
   "outputs": [],
   "source": [
    "import pandas as pd\n",
    "import joblib\n",
    "from sklearn.preprocessing import OneHotEncoder\n",
    "from sklearn.compose import ColumnTransformer\n",
    "from scipy import sparse"
   ]
  },
  {
   "cell_type": "code",
   "execution_count": null,
   "id": "f7c89a2f",
   "metadata": {},
   "outputs": [],
   "source": [
    "# ---------- 1. Configuration --------------------------------\n",
    "master_path    = \"../data/master_residue_file.csv\"          # <-- change to real path\n",
    "drop_cols      = ['amino_acid', 'dssp_residue_name']\n",
    "label_col      = 'label'\n",
    "\n",
    "identifier_cols = ['pdb_id', 'chain_id',\n",
    "                   'pdb_residue_number', 'renum_residue_number',\n",
    "                   'insertion_code']               # keep residue_name for encoding\n",
    "\n",
    "categorical_cols = ['residue_name',                 # 3-letter code\n",
    "                    'prev_res', 'next_res',         # neighbour 3-letter codes\n",
    "                    'secondary_structure']          # DSSP SS symbol"
   ]
  },
  {
   "cell_type": "code",
   "execution_count": 3,
   "id": "b9add6b3",
   "metadata": {},
   "outputs": [
    {
     "name": "stderr",
     "output_type": "stream",
     "text": [
      "/tmp/ipykernel_774467/4139956341.py:2: DtypeWarning: Columns (55,56) have mixed types. Specify dtype option on import or set low_memory=False.\n",
      "  df = pd.read_csv(master_path)\n"
     ]
    }
   ],
   "source": [
    "# ---------- 2. Load data ------------------------------------\n",
    "df = pd.read_csv(master_path)\n",
    "df = df.drop(columns=drop_cols, errors='ignore')"
   ]
  },
  {
   "cell_type": "code",
   "execution_count": 4,
   "id": "1e737c26",
   "metadata": {},
   "outputs": [],
   "source": [
    "# ---------- 3. Split X and y -------------------------------\n",
    "y = df[label_col]\n",
    "X = df.drop(columns=[label_col] + identifier_cols, errors='ignore')"
   ]
  },
  {
   "cell_type": "code",
   "execution_count": 5,
   "id": "6c093f6e",
   "metadata": {},
   "outputs": [],
   "source": [
    "# ---------- 4. Separate numeric columns ---------------------\n",
    "numeric_cols = [c for c in X.columns if c not in categorical_cols]"
   ]
  },
  {
   "cell_type": "code",
   "execution_count": 6,
   "id": "3a44ae2c",
   "metadata": {},
   "outputs": [],
   "source": [
    "# ---------- 5. Build ColumnTransformer ----------------------\n",
    "encoder = ColumnTransformer(\n",
    "    transformers=[\n",
    "        (\"cat\",\n",
    "         OneHotEncoder(sparse_output=True, handle_unknown=\"ignore\"),\n",
    "         categorical_cols),\n",
    "        (\"num\", \"passthrough\", numeric_cols)\n",
    "    ],\n",
    "    remainder=\"drop\",\n",
    "    sparse_threshold=1.0      # keep sparse unless 100 % dense\n",
    ")"
   ]
  },
  {
   "cell_type": "code",
   "execution_count": 7,
   "id": "184074a6",
   "metadata": {},
   "outputs": [],
   "source": [
    "# ---------- 6. Fit & transform ------------------------------\n",
    "X_sparse = encoder.fit_transform(X)      # SciPy CSR matrix"
   ]
  },
  {
   "cell_type": "code",
   "execution_count": null,
   "id": "f9681bd1",
   "metadata": {},
   "outputs": [
    {
     "data": {
      "text/plain": [
       "['../onehot_encoder_master.pkl']"
      ]
     },
     "execution_count": 9,
     "metadata": {},
     "output_type": "execute_result"
    }
   ],
   "source": [
    "# ---------- 7. Save outputs ---------------------------------\n",
    "sparse.save_npz(\"../data/X_master_sparse.npz\", X_sparse)\n",
    "y.to_csv(\"../data/y_master.csv\", index=False)\n",
    "joblib.dump(encoder, \"../data/onehot_encoder_master.pkl\")"
   ]
  },
  {
   "cell_type": "code",
   "execution_count": 10,
   "id": "770c05b8",
   "metadata": {},
   "outputs": [
    {
     "name": "stdout",
     "output_type": "stream",
     "text": [
      "Saving dense CSV – may take a while and lots of disk space …\n"
     ]
    }
   ],
   "source": [
    "print(\"Saving dense CSV – may take a while and lots of disk space …\")\n",
    "X_dense = X_sparse.toarray()\n",
    "feature_names = encoder.get_feature_names_out()\n",
    "pd.DataFrame(X_dense, columns=feature_names).to_csv(\"../data/X_master_dense.csv\", index=False)"
   ]
  },
  {
   "cell_type": "code",
   "execution_count": null,
   "id": "a511a32d",
   "metadata": {},
   "outputs": [],
   "source": []
  }
 ],
 "metadata": {
  "kernelspec": {
   "display_name": "pulsnar",
   "language": "python",
   "name": "python3"
  },
  "language_info": {
   "codemirror_mode": {
    "name": "ipython",
    "version": 3
   },
   "file_extension": ".py",
   "mimetype": "text/x-python",
   "name": "python",
   "nbconvert_exporter": "python",
   "pygments_lexer": "ipython3",
   "version": "3.11.13"
  }
 },
 "nbformat": 4,
 "nbformat_minor": 5
}
